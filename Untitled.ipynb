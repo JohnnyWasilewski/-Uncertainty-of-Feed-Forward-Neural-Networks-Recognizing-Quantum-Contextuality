{
 "cells": [
  {
   "cell_type": "code",
   "execution_count": 26,
   "id": "a26c02c7",
   "metadata": {},
   "outputs": [],
   "source": [
    "from pathlib import Path\n",
    "from scipy.stats import pearsonr\n",
    "import numpy as np\n",
    "\n",
    "import torch.nn as nn\n",
    "import matplotlib.pyplot as plt\n",
    "\n",
    "import uncertainties as unc\n",
    "import dataloaders as dl\n",
    "import models as m\n",
    "from torch import optim\n",
    "\n",
    "REP_DIM = 20\n",
    "DEVICE=\"cpu\""
   ]
  },
  {
   "cell_type": "code",
   "execution_count": 27,
   "id": "6261a626",
   "metadata": {},
   "outputs": [],
   "source": [
    "d = dl.get_dataloaders_nc(5000)"
   ]
  },
  {
   "cell_type": "code",
   "execution_count": 28,
   "id": "2d2d59d3",
   "metadata": {},
   "outputs": [],
   "source": [
    "import torch\n",
    "class Conv1d(nn.Module):\n",
    "    def __init__(self):\n",
    "        super().__init__()\n",
    "        self.model = nn.Sequential(\n",
    "            nn.Conv1d(1, 50, 4),\n",
    "            nn.Conv1d(50, 100, 4),\n",
    "            nn.MaxPool1d(4), #output size = 300\n",
    "            nn.Flatten(),\n",
    "            nn.Linear(300, 64),\n",
    "            nn.LeakyReLU(),\n",
    "            nn.Dropout(.5),\n",
    "            nn.Linear(64, 64),\n",
    "            nn.LeakyReLU(),\n",
    "            nn.Dropout(.5),\n",
    "            nn.Linear(64, 32),\n",
    "            nn.LeakyReLU(),\n",
    "            nn.Dropout(.5),\n",
    "            nn.Linear(32, REP_DIM),\n",
    "            )\n",
    "    def forward(self, x):\n",
    "        return self.model(x.view(x.size(0),1,-1))\n",
    "    \n",
    "net = Conv1d()"
   ]
  },
  {
   "cell_type": "code",
   "execution_count": 31,
   "id": "12d87d17",
   "metadata": {},
   "outputs": [],
   "source": [
    "def init_center_c(train_loader, net, eps=0.1):\n",
    "    n_samples = 0\n",
    "    c = torch.zeros(REP_DIM, device=DEVICE)\n",
    "\n",
    "    net.eval()\n",
    "    with torch.no_grad():\n",
    "        for data in train_loader:\n",
    "            inputs, _ = data\n",
    "            inputs = inputs.to(DEVICE)\n",
    "            outputs = net(inputs)\n",
    "            n_samples += outputs.shape[0]\n",
    "            c += torch.sum(outputs, dim=0)\n",
    "\n",
    "    c /= n_samples\n",
    "\n",
    "        # If c_i is too close to 0, set to +-eps. Reason: a zero unit can be trivially matched with zero weights.\n",
    "    c[(abs(c) < eps) & (c < 0)] = -eps\n",
    "    c[(abs(c) < eps) & (c > 0)] = eps\n",
    "\n",
    "    return c"
   ]
  },
  {
   "cell_type": "code",
   "execution_count": 36,
   "id": "98cd646b",
   "metadata": {},
   "outputs": [],
   "source": [
    "LR = 0.001\n",
    "LR_MILESTONES = (10,20,30,40)\n",
    "WEIGHT_DECAY = 0.001\n",
    "c = init_center_c(d, net)\n",
    "R = 0\n",
    "objective = \"one-class\"\n",
    "NU = 0.5\n",
    "N_EPOCHS=50\n",
    "\n",
    "optimizer = optim.Adam(net.parameters(), lr=LR, weight_decay=WEIGHT_DECAY,\n",
    "                               amsgrad='amsgrad')\n",
    "\n",
    "scheduler = optim.lr_scheduler.MultiStepLR(optimizer, milestones=LR_MILESTONES, gamma=0.1)\n",
    "\n",
    "for epoch in range(N_EPOCHS):\n",
    "    scheduler.step()\n",
    "\n",
    "    if epoch in LR_MILESTONES:\n",
    "        loss_epoch = 0.0\n",
    "        n_batches = 0\n",
    "        for data in d:\n",
    "            inputs, _ = data\n",
    "            inputs = inputs.to(DEVICE)\n",
    "            optimizer.zero_grad()\n",
    "            outputs = net(inputs)\n",
    "            dist = torch.sum((outputs - c) ** 2, dim=1)\n",
    "            if objective == 'soft-boundary':\n",
    "                scores = dist - R ** 2\n",
    "                loss = R ** 2 + (1 / NU) * torch.mean(torch.max(torch.zeros_like(scores), scores))\n",
    "            else:\n",
    "                loss = torch.mean(dist)\n",
    "            loss.backward()\n",
    "            optimizer.step()\n",
    "\n",
    "                # Update hypersphere radius R on mini-batch distances\n",
    "           #if (self.objective == 'soft-boundary') and (epoch >= self.warm_up_n_epochs):\n",
    "            #    self.R.data = torch.tensor(get_radius(dist, self.nu), device=self.device)\n",
    "\n",
    "            loss_epoch += loss.item()\n",
    "            n_batches += 1"
   ]
  },
  {
   "cell_type": "code",
   "execution_count": 41,
   "id": "e7084585",
   "metadata": {},
   "outputs": [
    {
     "data": {
      "text/plain": [
       "tensor([-0.1006,  0.0994,  0.0985, -0.1289,  0.1002, -0.0999, -0.1005,  0.1464,\n",
       "        -0.1376,  0.1389,  0.1000,  0.1010, -0.1022,  0.1005, -0.1013, -0.1172,\n",
       "         0.2306,  0.1689, -0.1565, -0.0997], grad_fn=<SelectBackward0>)"
      ]
     },
     "execution_count": 41,
     "metadata": {},
     "output_type": "execute_result"
    }
   ],
   "source": [
    "(net(next(iter(d))[0])[0] - c)"
   ]
  },
  {
   "cell_type": "code",
   "execution_count": 43,
   "id": "e54a704c",
   "metadata": {},
   "outputs": [
    {
     "data": {
      "text/plain": [
       "0"
      ]
     },
     "execution_count": 43,
     "metadata": {},
     "output_type": "execute_result"
    }
   ],
   "source": []
  },
  {
   "cell_type": "code",
   "execution_count": 42,
   "id": "43554a42",
   "metadata": {},
   "outputs": [
    {
     "data": {
      "text/plain": [
       "tensor([-0.1000,  0.1000,  0.1000, -0.1283,  0.1000, -0.1000, -0.1000,  0.1479,\n",
       "        -0.1371,  0.1405,  0.1000,  0.1000, -0.1000,  0.1000, -0.1000, -0.1171,\n",
       "         0.2315,  0.1684, -0.1548, -0.1000])"
      ]
     },
     "execution_count": 42,
     "metadata": {},
     "output_type": "execute_result"
    }
   ],
   "source": [
    "c"
   ]
  }
 ],
 "metadata": {
  "kernelspec": {
   "display_name": "Python 3 (ipykernel)",
   "language": "python",
   "name": "python3"
  },
  "language_info": {
   "codemirror_mode": {
    "name": "ipython",
    "version": 3
   },
   "file_extension": ".py",
   "mimetype": "text/x-python",
   "name": "python",
   "nbconvert_exporter": "python",
   "pygments_lexer": "ipython3",
   "version": "3.8.10"
  }
 },
 "nbformat": 4,
 "nbformat_minor": 5
}
